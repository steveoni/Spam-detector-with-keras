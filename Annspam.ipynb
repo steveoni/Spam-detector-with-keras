{
 "cells": [
  {
   "cell_type": "markdown",
   "metadata": {},
   "source": [
    "# Neural net for sms-spam using keras\n",
    "we will be training neural net on text data, which is a csv file containing list of spam and not spam short messages. since the data is a text data,not digit or floating point data which the neural network are familiar with. we will need to convert it to data that the neural net can feed upon.\n",
    "\n",
    "Their are different way to convert text data to what neural net can feed on. we can use `word-vector`,word-embedding. we will be using `word to vector` here. \n",
    "\n",
    "`Word to vector` can be represented using one-hot encoding, which is common but, here we will be using,Tfidf vectorizer, this create a matrix,with each data-point representing the frquency of each unique word in a document, and the idf(inverse document frequency) i.e the number of time they don't occur in the documents."
   ]
  },
  {
   "cell_type": "code",
   "execution_count": 1,
   "metadata": {},
   "outputs": [],
   "source": [
    "import numpy as np # linear algebra\n",
    "from sklearn.feature_extraction.text import TfidfVectorizer\n",
    "# from sklearn.calibration import *\n",
    "# from sklearn.linear_model import *\n",
    "# from sklearn.multiclass import *\n",
    "# from sklearn.svm import *\n",
    "import pandas\n",
    "from tensorflow import keras\n",
    "\n",
    "\n",
    "# from subprocess import check_output\n",
    "# # print(check_output([\"ls\", \"../input\"]).decode(\"utf8\"))\n",
    "\n",
    "# Any results you write to the current directory are saved as output.\n",
    "data = pandas.read_csv('spam.csv', encoding='latin-1')"
   ]
  },
  {
   "cell_type": "markdown",
   "metadata": {},
   "source": [
    "we will be using the tf-idf from scikit-learn,the term `tf` stand for `term frequency` which measure number of time the word appear in a document.idf-inverse document frquency, which help to penelaize word which appear to common. e.g the word `The` appear mostly in most document but does not tell us anything about the document, such word like `The` will be penelaize."
   ]
  },
  {
   "cell_type": "code",
   "execution_count": 8,
   "metadata": {},
   "outputs": [],
   "source": [
    "from sklearn.model_selection import train_test_split\n",
    "vectorizer = TfidfVectorizer()\n",
    "vectorize_text = vectorizer.fit_transform(data.v2).toarray()"
   ]
  },
  {
   "cell_type": "markdown",
   "metadata": {},
   "source": [
    "The matrix word vector is build in relative to the unique word called feature names generated from the text. This feature name then will be the number of column for the matrix and the row is the number of text(document)."
   ]
  },
  {
   "cell_type": "code",
   "execution_count": 12,
   "metadata": {},
   "outputs": [
    {
     "data": {
      "text/plain": [
       "8672"
      ]
     },
     "execution_count": 12,
     "metadata": {},
     "output_type": "execute_result"
    }
   ],
   "source": [
    "len(vectorizer.get_feature_names())"
   ]
  },
  {
   "cell_type": "code",
   "execution_count": 13,
   "metadata": {},
   "outputs": [
    {
     "name": "stdout",
     "output_type": "stream",
     "text": [
      "(5572, 8672)\n"
     ]
    }
   ],
   "source": [
    "print(vectorize_text.shape)"
   ]
  },
  {
   "cell_type": "markdown",
   "metadata": {},
   "source": [
    "After formatting the text data into what the neural net can use we also need to format the label.Since the label contain word ham and spam. we can represent them in binary representation, such as `0` stands for `ham` and `1` stands for `spam`."
   ]
  },
  {
   "cell_type": "code",
   "execution_count": 40,
   "metadata": {},
   "outputs": [],
   "source": [
    "label =data.v1.values.copy()\n",
    "label[label=='ham']=0\n",
    "label[label=='spam']=1"
   ]
  },
  {
   "cell_type": "code",
   "execution_count": 41,
   "metadata": {},
   "outputs": [
    {
     "data": {
      "text/plain": [
       "array([0, 0, 1, 0, 0, 1, 0, 0, 1, 1, 0, 1, 1, 0, 0, 1, 0, 0, 0, 1],\n",
       "      dtype=object)"
      ]
     },
     "execution_count": 41,
     "metadata": {},
     "output_type": "execute_result"
    }
   ],
   "source": [
    "label[:20]"
   ]
  },
  {
   "cell_type": "markdown",
   "metadata": {},
   "source": [
    "To split my data and shuffle them at the same time, i found `train_test_split` the best at that.so we split our data to train and test, with 10% for testing and 90% for training"
   ]
  },
  {
   "cell_type": "code",
   "execution_count": 21,
   "metadata": {},
   "outputs": [],
   "source": [
    "X_train,X_test,y_train,y_test = train_test_split(vectorize_text,label,random_state=42,test_size=0.10)"
   ]
  },
  {
   "cell_type": "code",
   "execution_count": 22,
   "metadata": {},
   "outputs": [
    {
     "name": "stdout",
     "output_type": "stream",
     "text": [
      "4014\n"
     ]
    }
   ],
   "source": [
    "#get validation data\n",
    "val_data = X_train[:1000]\n",
    "val_label = y_train[:1000]\n",
    "X_train = X_train[1000:]\n",
    "y_train = y_train[1000:]\n",
    "print(len(X_train))"
   ]
  },
  {
   "cell_type": "markdown",
   "metadata": {},
   "source": [
    "We would like to make our data have a good distribution. so we normalize them by making sure they are centered at `zero` and we divide it by the standard deviation.But since our data are floating point data already and of very small value, dividing them by zero might bring error or ambiguous value, hence the neural net might not learn anything."
   ]
  },
  {
   "cell_type": "code",
   "execution_count": 23,
   "metadata": {},
   "outputs": [],
   "source": [
    "#mean centered\n",
    "mean=X_train.mean(axis=0)\n",
    "std = X_train.std(axis=0)\n",
    "X_train -=mean\n",
    "\n",
    "X_test -=mean\n",
    "\n",
    "val_data -=mean\n"
   ]
  },
  {
   "cell_type": "code",
   "execution_count": 24,
   "metadata": {},
   "outputs": [
    {
     "name": "stdout",
     "output_type": "stream",
     "text": [
      "[-3.86596552e-04 -1.17770129e-03 -5.79079546e-05 ... -7.20037324e-05\n",
      " -2.71902839e-04 -8.96494658e-05]\n"
     ]
    }
   ],
   "source": [
    "print(X_train[0])"
   ]
  },
  {
   "cell_type": "markdown",
   "metadata": {},
   "source": [
    "Since we are using tensorflow high level layer called keras, its make the model easier to build.All we need is to call the `keras` `models` and `layers`. The network will be a 3 layer network, one hidden layer.16 weighted neurons and one output neuron. Since, the label is binary it will be prefferable to use `binary_crossenthropy` instead of `softmax-crossentropy`."
   ]
  },
  {
   "cell_type": "code",
   "execution_count": 25,
   "metadata": {},
   "outputs": [],
   "source": [
    "models = keras.models\n",
    "layers = keras.layers\n",
    "\n",
    "model = models.Sequential()\n",
    "model.add(layers.Dense(16,activation='relu',input_shape=(8672,)))\n",
    "model.add(layers.Dense(16,activation='relu'))\n",
    "model.add(layers.Dense(1,activation='sigmoid'))\n",
    "\n",
    "model.compile(optimizer='rmsprop',\n",
    "             loss='binary_crossentropy',\n",
    "             metrics=['accuracy'])"
   ]
  },
  {
   "cell_type": "code",
   "execution_count": 26,
   "metadata": {},
   "outputs": [
    {
     "name": "stdout",
     "output_type": "stream",
     "text": [
      "_________________________________________________________________\n",
      "Layer (type)                 Output Shape              Param #   \n",
      "=================================================================\n",
      "dense (Dense)                (None, 16)                138768    \n",
      "_________________________________________________________________\n",
      "dense_1 (Dense)              (None, 16)                272       \n",
      "_________________________________________________________________\n",
      "dense_2 (Dense)              (None, 1)                 17        \n",
      "=================================================================\n",
      "Total params: 139,057\n",
      "Trainable params: 139,057\n",
      "Non-trainable params: 0\n",
      "_________________________________________________________________\n"
     ]
    }
   ],
   "source": [
    "model.summary()"
   ]
  },
  {
   "cell_type": "code",
   "execution_count": 27,
   "metadata": {},
   "outputs": [
    {
     "name": "stdout",
     "output_type": "stream",
     "text": [
      "(4014,)\n"
     ]
    }
   ],
   "source": [
    "print(y_train.shape)"
   ]
  },
  {
   "cell_type": "markdown",
   "metadata": {},
   "source": [
    "To train the model, we use `model.fit`. We set the number of time we want to see all the data, which is called `epochs`. Since the training is using `minibatch gradient descent`, we would not pass all of our data at the same time.But for each iteration we pass the data batch-by-batch and update the weight and then we output the cumulative loss at the end of each epochs."
   ]
  },
  {
   "cell_type": "code",
   "execution_count": 28,
   "metadata": {},
   "outputs": [
    {
     "name": "stdout",
     "output_type": "stream",
     "text": [
      "Train on 4014 samples, validate on 1000 samples\n",
      "Epoch 1/20\n",
      "4014/4014 [==============================] - 3s 639us/step - loss: 0.6402 - acc: 0.8642 - val_loss: 0.5789 - val_acc: 0.8610\n",
      "Epoch 2/20\n",
      "4014/4014 [==============================] - 1s 280us/step - loss: 0.5362 - acc: 0.8652 - val_loss: 0.4756 - val_acc: 0.8610\n",
      "Epoch 3/20\n",
      "4014/4014 [==============================] - 1s 268us/step - loss: 0.4318 - acc: 0.8652 - val_loss: 0.3776 - val_acc: 0.8610\n",
      "Epoch 4/20\n",
      "4014/4014 [==============================] - 1s 324us/step - loss: 0.3357 - acc: 0.8652 - val_loss: 0.2945 - val_acc: 0.8610\n",
      "Epoch 5/20\n",
      "4014/4014 [==============================] - 1s 310us/step - loss: 0.2562 - acc: 0.8919 - val_loss: 0.2337 - val_acc: 0.9090\n",
      "Epoch 6/20\n",
      "4014/4014 [==============================] - 1s 335us/step - loss: 0.1970 - acc: 0.9557 - val_loss: 0.1922 - val_acc: 0.9500\n",
      "Epoch 7/20\n",
      "4014/4014 [==============================] - 1s 311us/step - loss: 0.1544 - acc: 0.9768 - val_loss: 0.1647 - val_acc: 0.9580\n",
      "Epoch 8/20\n",
      "4014/4014 [==============================] - 1s 309us/step - loss: 0.1230 - acc: 0.9846 - val_loss: 0.1478 - val_acc: 0.9630\n",
      "Epoch 9/20\n",
      "4014/4014 [==============================] - 1s 299us/step - loss: 0.1004 - acc: 0.9878 - val_loss: 0.1353 - val_acc: 0.9670\n",
      "Epoch 10/20\n",
      "4014/4014 [==============================] - 1s 298us/step - loss: 0.0831 - acc: 0.9920 - val_loss: 0.1263 - val_acc: 0.9700\n",
      "Epoch 11/20\n",
      "4014/4014 [==============================] - 1s 315us/step - loss: 0.0694 - acc: 0.9950 - val_loss: 0.1213 - val_acc: 0.9730\n",
      "Epoch 12/20\n",
      "4014/4014 [==============================] - 1s 364us/step - loss: 0.0580 - acc: 0.9960 - val_loss: 0.1134 - val_acc: 0.9730\n",
      "Epoch 13/20\n",
      "4014/4014 [==============================] - 1s 353us/step - loss: 0.0479 - acc: 0.9973 - val_loss: 0.1057 - val_acc: 0.9740\n",
      "Epoch 14/20\n",
      "4014/4014 [==============================] - 1s 366us/step - loss: 0.0398 - acc: 0.9980 - val_loss: 0.1074 - val_acc: 0.9750\n",
      "Epoch 15/20\n",
      "4014/4014 [==============================] - 1s 340us/step - loss: 0.0330 - acc: 0.9978 - val_loss: 0.1041 - val_acc: 0.9750\n",
      "Epoch 16/20\n",
      "4014/4014 [==============================] - 1s 317us/step - loss: 0.0268 - acc: 0.9988 - val_loss: 0.1074 - val_acc: 0.9750\n",
      "Epoch 17/20\n",
      "4014/4014 [==============================] - 2s 374us/step - loss: 0.0212 - acc: 0.9985 - val_loss: 0.1051 - val_acc: 0.9750\n",
      "Epoch 18/20\n",
      "4014/4014 [==============================] - 1s 292us/step - loss: 0.0166 - acc: 0.9988 - val_loss: 0.1079 - val_acc: 0.9750\n",
      "Epoch 19/20\n",
      "4014/4014 [==============================] - 1s 352us/step - loss: 0.0133 - acc: 0.9993 - val_loss: 0.1130 - val_acc: 0.9750\n",
      "Epoch 20/20\n",
      "4014/4014 [==============================] - 1s 335us/step - loss: 0.0107 - acc: 0.9990 - val_loss: 0.1145 - val_acc: 0.9760\n"
     ]
    }
   ],
   "source": [
    "history = model.fit(X_train,\n",
    "                   y_train,\n",
    "                   epochs=20,\n",
    "                   batch_size=200,\n",
    "                   validation_data=(val_data,val_label))"
   ]
  },
  {
   "cell_type": "code",
   "execution_count": 29,
   "metadata": {},
   "outputs": [],
   "source": [
    "import matplotlib.pyplot as plt\n",
    "history = history.history"
   ]
  },
  {
   "cell_type": "code",
   "execution_count": 42,
   "metadata": {},
   "outputs": [
    {
     "data": {
      "text/plain": [
       "dict_keys(['val_loss', 'val_acc', 'loss', 'acc'])"
      ]
     },
     "execution_count": 42,
     "metadata": {},
     "output_type": "execute_result"
    }
   ],
   "source": [
    "history.keys() #store the loss and acuracy"
   ]
  },
  {
   "cell_type": "code",
   "execution_count": 31,
   "metadata": {},
   "outputs": [
    {
     "data": {
      "image/png": "[encoded data removed]",
      "text/plain": [
       "<Figure size 432x288 with 1 Axes>"
      ]
     },
     "metadata": {},
     "output_type": "display_data"
    }
   ],
   "source": [
    "loss_values = history['loss']\n",
    "val_loss_values = history['val_loss']\n",
    "epochs = range(1,21)\n",
    "\n",
    "plt.plot(epochs,loss_values,'bo',label='Training loss')\n",
    "plt.plot(epochs,val_loss_values,'b',label='validation loss')\n",
    "plt.title('Training and validation loss')\n",
    "plt.xlabel('EPochs')\n",
    "plt.ylabel('Loss')\n",
    "plt.legend()\n",
    "plt.show()"
   ]
  },
  {
   "cell_type": "code",
   "execution_count": 32,
   "metadata": {},
   "outputs": [
    {
     "data": {
      "image/png": "[encoded data removed]",
      "text/plain": [
       "<Figure size 432x288 with 1 Axes>"
      ]
     },
     "metadata": {},
     "output_type": "display_data"
    }
   ],
   "source": [
    "plt.clf()\n",
    "acc_values = history['acc']\n",
    "val_acc_values = history['val_acc']\n",
    "\n",
    "plt.plot(epochs,acc_values,'bo',label='Training acc')\n",
    "plt.plot(epochs,val_acc_values,'b',label='Validation acc')\n",
    "plt.title('Training and validation accuracy')\n",
    "plt.xlabel('Epochs')\n",
    "plt.ylabel('loss')\n",
    "plt.legend()\n",
    "plt.show()"
   ]
  },
  {
   "cell_type": "markdown",
   "metadata": {},
   "source": [
    "From the accuracy graph , we can see that the model did not over fit much, since the gap between the training acccuracy and the validation accuracy is small.you can still train the network to get an higher accuracy, may be by increasing the model capacity,increase the number of weight,and regularizer e.t.c"
   ]
  },
  {
   "cell_type": "code",
   "execution_count": 33,
   "metadata": {},
   "outputs": [
    {
     "name": "stdout",
     "output_type": "stream",
     "text": [
      "558/558 [==============================] - 0s 200us/step\n"
     ]
    }
   ],
   "source": [
    "result = model.evaluate(X_test,y_test)"
   ]
  },
  {
   "cell_type": "markdown",
   "metadata": {},
   "source": [
    "Evaluate the model with the test data,we get an accuracy of 0.99 that is 99%.wow! that cool :)"
   ]
  },
  {
   "cell_type": "code",
   "execution_count": 34,
   "metadata": {},
   "outputs": [
    {
     "name": "stdout",
     "output_type": "stream",
     "text": [
      "[0.05727166076788285, 0.9910394265232975]\n"
     ]
    }
   ],
   "source": [
    "print(result)#0.9 accuracy"
   ]
  },
  {
   "cell_type": "code",
   "execution_count": 35,
   "metadata": {},
   "outputs": [],
   "source": [
    "prediction = model.predict(X_test)"
   ]
  },
  {
   "cell_type": "code",
   "execution_count": 36,
   "metadata": {},
   "outputs": [
    {
     "data": {
      "text/plain": [
       "(558, 1)"
      ]
     },
     "execution_count": 36,
     "metadata": {},
     "output_type": "execute_result"
    }
   ],
   "source": [
    "prediction.shape"
   ]
  },
  {
   "cell_type": "markdown",
   "metadata": {},
   "source": [
    "Test the network with a spam message"
   ]
  },
  {
   "cell_type": "code",
   "execution_count": 37,
   "metadata": {},
   "outputs": [],
   "source": [
    "d = vectorizer.transform([\"text win to 5050,to win your lottery\"]).toarray()\n"
   ]
  },
  {
   "cell_type": "code",
   "execution_count": 38,
   "metadata": {},
   "outputs": [
    {
     "name": "stdout",
     "output_type": "stream",
     "text": [
      "(8672,)\n"
     ]
    }
   ],
   "source": [
    "print(d[0].shape)"
   ]
  },
  {
   "cell_type": "code",
   "execution_count": 39,
   "metadata": {},
   "outputs": [
    {
     "data": {
      "text/plain": [
       "array([[1]], dtype=int32)"
      ]
     },
     "execution_count": 39,
     "metadata": {},
     "output_type": "execute_result"
    }
   ],
   "source": [
    "c = d[0]\n",
    "model.predict_classes(d)"
   ]
  },
  {
   "cell_type": "code",
   "execution_count": 43,
   "metadata": {},
   "outputs": [],
   "source": [
    "#neural network is more intuitve in prediction compare to svm"
   ]
  },
  {
   "cell_type": "code",
   "execution_count": null,
   "metadata": {},
   "outputs": [],
   "source": []
  }
 ],
 "metadata": {
  "kernelspec": {
   "display_name": "Python 3",
   "language": "python",
   "name": "python3"
  },
  "language_info": {
   "codemirror_mode": {
    "name": "ipython",
    "version": 3
   },
   "file_extension": ".py",
   "mimetype": "text/x-python",
   "name": "python",
   "nbconvert_exporter": "python",
   "pygments_lexer": "ipython3",
   "version": "3.6.5"
  }
 },
 "nbformat": 4,
 "nbformat_minor": 2
}
